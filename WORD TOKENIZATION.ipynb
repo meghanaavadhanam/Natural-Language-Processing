{
 "cells": [
  {
   "cell_type": "code",
   "execution_count": 1,
   "id": "85a533bd",
   "metadata": {},
   "outputs": [],
   "source": [
    "article = \"Quantum computing is a type of computing that uses the properties of quantum mechanics, \\\n",
    "    such as superposition and entanglement, to perform operations on data. It has the potential to be \\\n",
    "    much faster and more powerful than traditional computing for certain types of problems. Instead of \\\n",
    "    using classical bits, which can be in one of two states (0 or 1), quantum computing uses quantum bits, \\\n",
    "    or qubits, which can be in a superposition of states. This allows a quantum computer to perform many \\\n",
    "    calculations at once, which can greatly speed up certain types of computations. However, quantum computing \\\n",
    "    is still a relatively new and rapidly developing field, and it is not yet clear how it will be used in \\\n",
    "    practice.\"\n"
   ]
  },
  {
   "cell_type": "code",
   "execution_count": 2,
   "id": "42bb2b93",
   "metadata": {
    "scrolled": true
   },
   "outputs": [
    {
     "name": "stdout",
     "output_type": "stream",
     "text": [
      "NTLK Version: 3.7\n"
     ]
    }
   ],
   "source": [
    "import nltk\n",
    "print('NTLK Version: %s' % nltk.__version__)"
   ]
  },
  {
   "cell_type": "code",
   "execution_count": 4,
   "id": "014055c5",
   "metadata": {},
   "outputs": [
    {
     "name": "stderr",
     "output_type": "stream",
     "text": [
      "[nltk_data] Downloading package punkt to\n",
      "[nltk_data]     /Users/meghanaavadhanam/nltk_data...\n",
      "[nltk_data]   Unzipping tokenizers/punkt.zip.\n"
     ]
    },
    {
     "data": {
      "text/plain": [
       "True"
      ]
     },
     "execution_count": 4,
     "metadata": {},
     "output_type": "execute_result"
    }
   ],
   "source": [
    "nltk.download('punkt')"
   ]
  },
  {
   "cell_type": "code",
   "execution_count": 7,
   "id": "1c117ad4",
   "metadata": {},
   "outputs": [
    {
     "name": "stdout",
     "output_type": "stream",
     "text": [
      "BEFORE TOKENIZATION \n",
      " Quantum computing is a type of computing that uses the properties of quantum mechanics,     such as superposition and entanglement, to perform operations on data. It has the potential to be     much faster and more powerful than traditional computing for certain types of problems. Instead of     using classical bits, which can be in one of two states (0 or 1), quantum computing uses quantum bits,     or qubits, which can be in a superposition of states. This allows a quantum computer to perform many     calculations at once, which can greatly speed up certain types of computations. However, quantum computing     is still a relatively new and rapidly developing field, and it is not yet clear how it will be used in     practice.\n",
      "\n",
      " AFTER TOKENIZATION \n",
      " \n",
      "['Quantum', 'computing', 'is', 'a', 'type', 'of', 'computing', 'that', 'uses', 'the', 'properties', 'of', 'quantum', 'mechanics', ',', 'such', 'as', 'superposition', 'and', 'entanglement', ',', 'to', 'perform', 'operations', 'on', 'data', '.', 'It', 'has', 'the', 'potential', 'to', 'be', 'much', 'faster', 'and', 'more', 'powerful', 'than', 'traditional', 'computing', 'for', 'certain', 'types', 'of', 'problems', '.', 'Instead', 'of', 'using', 'classical', 'bits', ',', 'which', 'can', 'be', 'in', 'one', 'of', 'two', 'states', '(', '0', 'or', '1', ')', ',', 'quantum', 'computing', 'uses', 'quantum', 'bits', ',', 'or', 'qubits', ',', 'which', 'can', 'be', 'in', 'a', 'superposition', 'of', 'states', '.', 'This', 'allows', 'a', 'quantum', 'computer', 'to', 'perform', 'many', 'calculations', 'at', 'once', ',', 'which', 'can', 'greatly', 'speed', 'up', 'certain', 'types', 'of', 'computations', '.', 'However', ',', 'quantum', 'computing', 'is', 'still', 'a', 'relatively', 'new', 'and', 'rapidly', 'developing', 'field', ',', 'and', 'it', 'is', 'not', 'yet', 'clear', 'how', 'it', 'will', 'be', 'used', 'in', 'practice', '.']\n"
     ]
    }
   ],
   "source": [
    "print('BEFORE TOKENIZATION \\n %s' % (article))\n",
    "print('\\n AFTER TOKENIZATION \\n ')\n",
    "print(nltk.word_tokenize(article))"
   ]
  },
  {
   "cell_type": "code",
   "execution_count": null,
   "id": "83f166bf",
   "metadata": {},
   "outputs": [],
   "source": []
  }
 ],
 "metadata": {
  "kernelspec": {
   "display_name": "Python 3 (ipykernel)",
   "language": "python",
   "name": "python3"
  },
  "language_info": {
   "codemirror_mode": {
    "name": "ipython",
    "version": 3
   },
   "file_extension": ".py",
   "mimetype": "text/x-python",
   "name": "python",
   "nbconvert_exporter": "python",
   "pygments_lexer": "ipython3",
   "version": "3.9.12"
  }
 },
 "nbformat": 4,
 "nbformat_minor": 5
}
