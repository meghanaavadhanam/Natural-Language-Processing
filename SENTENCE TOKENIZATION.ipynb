{
 "cells": [
  {
   "cell_type": "markdown",
   "id": "5feb952f",
   "metadata": {},
   "source": [
    "About 86% of articles include the important sentences in first one or two sentences. Probably that is one of the reasons why textsum model uses first 2 sentences for training. "
   ]
  },
  {
   "cell_type": "code",
   "execution_count": 9,
   "id": "348f99d3",
   "metadata": {},
   "outputs": [
    {
     "name": "stdout",
     "output_type": "stream",
     "text": [
      "NTLK Version: 3.7\n"
     ]
    }
   ],
   "source": [
    "import nltk\n",
    "from nltk.tokenize import sent_tokenize\n",
    "print('NTLK Version: %s' % nltk.__version__)"
   ]
  },
  {
   "cell_type": "code",
   "execution_count": 10,
   "id": "d45df834",
   "metadata": {},
   "outputs": [],
   "source": [
    "article = \"Exoplanets, or extrasolar planets, are planets that orbit stars other than our Sun. \\\n",
    "        They have been discovered around thousands of stars, and the number of known exoplanets continues \\\n",
    "to grow as new discoveries are made. The most common method used to detect exoplanets is the radial\\\n",
    "velocity method, which looks for the slight wobble in a star's \\\n",
    "motion caused by the gravitational pull of an orbiting planet. Another popular method\\\n",
    "is the transit method which looks for the dimming of starlight as a planet passes in \\\n",
    "front of its host star. The study of exoplanets is an active area of research as scientists \\\n",
    "try to learn more about the prevalence and diversity of planetary systems beyond our own.\""
   ]
  },
  {
   "cell_type": "code",
   "execution_count": 11,
   "id": "ea036eb9",
   "metadata": {},
   "outputs": [],
   "source": [
    "article2 = 'ConcateStringAnd123 ConcateSepcialCharacter_!@# !@#$%^&*()_+ 0123456'\n",
    "\n",
    "article3 = 'It is a great moment from 10 a.m. to 1 p.m. every weekend.'"
   ]
  },
  {
   "cell_type": "code",
   "execution_count": 12,
   "id": "1e0add90",
   "metadata": {},
   "outputs": [
    {
     "name": "stdout",
     "output_type": "stream",
     "text": [
      "BEFORE SENTENCE TOKENIZATION: Exoplanets, or extrasolar planets, are planets that orbit stars other than our Sun.         They have been discovered around thousands of stars, and the number of known exoplanets continues to grow as new discoveries are made. The most common method used to detect exoplanets is the radialvelocity method, which looks for the slight wobble in a star's motion caused by the gravitational pull of an orbiting planet. Another popular methodis the transit method which looks for the dimming of starlight as a planet passes in front of its host star. The study of exoplanets is an active area of research as scientists try to learn more about the prevalence and diversity of planetary systems beyond our own.\n",
      "\n",
      "-->Sentence 0: Exoplanets, or extrasolar planets, are planets that orbit stars other than our Sun.\n",
      "-->Sentence 1: They have been discovered around thousands of stars, and the number of known exoplanets continues to grow as new discoveries are made.\n",
      "-->Sentence 2: The most common method used to detect exoplanets is the radialvelocity method, which looks for the slight wobble in a star's motion caused by the gravitational pull of an orbiting planet.\n",
      "-->Sentence 3: Another popular methodis the transit method which looks for the dimming of starlight as a planet passes in front of its host star.\n",
      "-->Sentence 4: The study of exoplanets is an active area of research as scientists try to learn more about the prevalence and diversity of planetary systems beyond our own.\n",
      "BEFORE SENTENCE TOKENIZATION: ConcateStringAnd123 ConcateSepcialCharacter_!@# !@#$%^&*()_+ 0123456\n",
      "\n",
      "-->Sentence 0: ConcateStringAnd123 ConcateSepcialCharacter_!@# !\n",
      "-->Sentence 1: @#$%^&*()_+ 0123456\n",
      "BEFORE SENTENCE TOKENIZATION: It is a great moment from 10 a.m. to 1 p.m. every weekend.\n",
      "\n",
      "-->Sentence 0: It is a great moment from 10 a.m. to 1 p.m. every weekend.\n"
     ]
    }
   ],
   "source": [
    "for article in [article, article2, article3]:\n",
    "    print('BEFORE SENTENCE TOKENIZATION: %s' % (article))\n",
    "    print()\n",
    "\n",
    "    doc = sent_tokenize(article)\n",
    "    for i, token in enumerate(doc):\n",
    "        print('-->Sentence %d: %s' % (i, token))"
   ]
  },
  {
   "cell_type": "code",
   "execution_count": null,
   "id": "544379ea",
   "metadata": {},
   "outputs": [],
   "source": []
  }
 ],
 "metadata": {
  "kernelspec": {
   "display_name": "Python 3 (ipykernel)",
   "language": "python",
   "name": "python3"
  },
  "language_info": {
   "codemirror_mode": {
    "name": "ipython",
    "version": 3
   },
   "file_extension": ".py",
   "mimetype": "text/x-python",
   "name": "python",
   "nbconvert_exporter": "python",
   "pygments_lexer": "ipython3",
   "version": "3.9.12"
  }
 },
 "nbformat": 4,
 "nbformat_minor": 5
}
