{
 "cells": [
  {
   "cell_type": "markdown",
   "id": "3967ccd7",
   "metadata": {},
   "source": [
    "## HERE I AIM TO ANALYSE SOME REDDIT POSTS AND THEIR COMMENTS"
   ]
  },
  {
   "cell_type": "markdown",
   "id": "a556840a",
   "metadata": {},
   "source": [
    "For this, I need to scrape data with Scrapy or BeautifulSoup. "
   ]
  },
  {
   "cell_type": "code",
   "execution_count": null,
   "id": "61abefe0",
   "metadata": {},
   "outputs": [],
   "source": []
  }
 ],
 "metadata": {
  "kernelspec": {
   "display_name": "Python 3 (ipykernel)",
   "language": "python",
   "name": "python3"
  },
  "language_info": {
   "codemirror_mode": {
    "name": "ipython",
    "version": 3
   },
   "file_extension": ".py",
   "mimetype": "text/x-python",
   "name": "python",
   "nbconvert_exporter": "python",
   "pygments_lexer": "ipython3",
   "version": "3.9.12"
  }
 },
 "nbformat": 4,
 "nbformat_minor": 5
}
